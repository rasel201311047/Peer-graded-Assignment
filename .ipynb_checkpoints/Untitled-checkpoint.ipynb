{
 "cells": [
  {
   "cell_type": "markdown",
   "id": "3a9f9edf-5150-4550-a14c-7b16d0492023",
   "metadata": {},
   "source": [
    "# Data Science Notebook"
   ]
  },
  {
   "cell_type": "markdown",
   "id": "a1e6f7c7-9146-47b2-8f18-52fe41c3a5e5",
   "metadata": {},
   "source": [
    "## Introduction  \n",
    "This notebook is a collection of basic concepts related to **Data Science**, including languages, libraries, tools, and simple arithmetic operations in Python."
   ]
  },
  {
   "cell_type": "markdown",
   "id": "2fae8792-931b-4054-84fb-7c9ba87d8162",
   "metadata": {},
   "source": [
    "## Data Science Languages  \n",
    "- Python  \n",
    "- R  \n",
    "- SQL  \n",
    "- Julia  \n",
    "- Scala (for big data)  "
   ]
  },
  {
   "cell_type": "markdown",
   "id": "0f0e1e8f-269b-4c65-ab8e-9330d0f733e0",
   "metadata": {},
   "source": [
    "## Data Science Libraries  \n",
    "- Pandas (Python)  \n",
    "- NumPy (Python)  \n",
    "- Scikit-learn (Python)  \n",
    "- TensorFlow (Python)  \n",
    "- ggplot2 (R)  \n",
    "- dplyr (R)  "
   ]
  },
  {
   "cell_type": "markdown",
   "id": "26d11d21-e2a4-46a4-8f53-b7a818dd1115",
   "metadata": {},
   "source": [
    "## Data Science Tools  \n",
    "\n",
    "| Tool          | Purpose                     |\n",
    "|---------------|-----------------------------|\n",
    "| Jupyter       | Interactive coding          |\n",
    "| RStudio       | R development               |\n",
    "| VS Code       | General coding              |\n",
    "| Tableau       | Data visualization          |\n",
    "| Apache Spark  | Big data processing         |"
   ]
  },
  {
   "cell_type": "markdown",
   "id": "8b9c9050-69c6-4d30-8484-b67d52ee932f",
   "metadata": {},
   "source": [
    "## Arithmetic Expressions  \n",
    "Examples of arithmetic operations in Python:  \n",
    "- Addition (`a + b`)  \n",
    "- Multiplication (`a * b`)  \n",
    "- Division (`a / b`)  \n",
    "- Exponentiation (`a ** b`)  "
   ]
  },
  {
   "cell_type": "code",
   "execution_count": 15,
   "id": "0f51074f-7823-44d1-a037-a1d0a617396e",
   "metadata": {},
   "outputs": [
    {
     "name": "stdout",
     "output_type": "stream",
     "text": [
      "Multiplication: 5 * 10 = 50\n",
      "Addition: 5 + 10 = 15\n"
     ]
    }
   ],
   "source": [
    "# Multiply and add numbers\n",
    "a = 5\n",
    "b = 10\n",
    "multiply = a * b\n",
    "add = a + b\n",
    "\n",
    "print(f\"Multiplication: {a} * {b} = {multiply}\")\n",
    "print(f\"Addition: {a} + {b} = {add}\")"
   ]
  },
  {
   "cell_type": "code",
   "execution_count": 17,
   "id": "b723da32-c70e-430c-9e2a-cd68d4bab278",
   "metadata": {},
   "outputs": [
    {
     "name": "stdout",
     "output_type": "stream",
     "text": [
      "150 minutes = 2.50 hours\n"
     ]
    }
   ],
   "source": [
    "# Convert minutes to hours\n",
    "minutes = 150\n",
    "hours = minutes / 60\n",
    "\n",
    "print(f\"{minutes} minutes = {hours:.2f} hours\")"
   ]
  },
  {
   "cell_type": "markdown",
   "id": "332956ab-15e0-499f-821f-e7b0654095e4",
   "metadata": {},
   "source": [
    "## Objectives  \n",
    "✔ List popular data science languages  \n",
    "✔ Identify key data science libraries  \n",
    "✔ Summarize essential tools for data science  \n",
    "✔ Demonstrate basic Python arithmetic  \n",
    "✔ Convert units (minutes to hours)  "
   ]
  },
  {
   "cell_type": "markdown",
   "id": "94f8b2c7-d979-42bf-a75d-0bdfffcec773",
   "metadata": {},
   "source": [
    "## Author  \n",
    "Md Rasel Islam\n"
   ]
  },
  {
   "cell_type": "code",
   "execution_count": null,
   "id": "25117521-0041-4fed-a401-50397c819296",
   "metadata": {},
   "outputs": [],
   "source": []
  }
 ],
 "metadata": {
  "kernelspec": {
   "display_name": "Python [conda env:base] *",
   "language": "python",
   "name": "conda-base-py"
  },
  "language_info": {
   "codemirror_mode": {
    "name": "ipython",
    "version": 3
   },
   "file_extension": ".py",
   "mimetype": "text/x-python",
   "name": "python",
   "nbconvert_exporter": "python",
   "pygments_lexer": "ipython3",
   "version": "3.12.7"
  }
 },
 "nbformat": 4,
 "nbformat_minor": 5
}
